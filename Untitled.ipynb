{
 "cells": [
  {
   "cell_type": "code",
   "execution_count": 2,
   "id": "1d54f393-f876-48e9-9407-c6a640dbbe6e",
   "metadata": {},
   "outputs": [],
   "source": [
    "from transformers import GPT2LMHeadModel, GPT2Tokenizer\n",
    "from ChatData import ChatData\n",
    "from torch.optim import Adam\n",
    "from torch.utils.data import DataLoader\n",
    "import tqdm\n",
    "import torch\n",
    "\n"
   ]
  },
  {
   "cell_type": "code",
   "execution_count": 3,
   "id": "4d3a6637-9e3a-41e1-9ba0-99a6223bf4fd",
   "metadata": {},
   "outputs": [
    {
     "name": "stdout",
     "output_type": "stream",
     "text": [
      "cuda\n"
     ]
    }
   ],
   "source": [
    "device = \"cuda\" if torch.cuda.is_available() else \"mps\" if torch.backends.mps.is_available() else \"cpu\"\n",
    "print(device)"
   ]
  },
  {
   "cell_type": "code",
   "execution_count": 3,
   "id": "c9a39ce2-6bde-4c7c-949f-02fe2edd8c9f",
   "metadata": {},
   "outputs": [],
   "source": [
    "def train(chatData, model, optim):\n",
    "\n",
    "    epochs = 5\n",
    "\n",
    "    for i in tqdm.tqdm(range(epochs)):\n",
    "        for X, a in chatData:\n",
    "            X = X.to(device)\n",
    "            a = a.to(device)\n",
    "            optim.zero_grad()\n",
    "            loss = model(X, attention_mask=a, labels=X).loss\n",
    "            loss.backward()\n",
    "            optim.step()\n",
    "    # if epochs % 1 == 0:\n",
    "        print(\"saving the model\")\n",
    "        torch.save(model.state_dict(), \"model_state.pt\")\n",
    "        print(infer(\"hello how are you\"))"
   ]
  },
  {
   "cell_type": "code",
   "execution_count": 4,
   "id": "876eacb8-fdd5-462c-93d8-6674329817f2",
   "metadata": {},
   "outputs": [],
   "source": [
    "def infer(inp):\n",
    "    inp = \"<startofstring> \"+inp+\" <bot>: \"\n",
    "    inp = tokenizer(inp, return_tensors=\"pt\")\n",
    "    X = inp[\"input_ids\"].to(device)\n",
    "    a = inp[\"attention_mask\"].to(device)\n",
    "    output = model.generate(X, attention_mask=a )\n",
    "    output = tokenizer.decode(output[0])\n",
    "    return output"
   ]
  },
  {
   "cell_type": "code",
   "execution_count": 5,
   "id": "207a7192-5bad-40be-9052-1069ac2cb8b8",
   "metadata": {},
   "outputs": [],
   "source": [
    "# print(tokenizer.decode(model.generate(**tokenizer(\"banana is good for \", return_tensors=\"pt\"))[0]))\n"
   ]
  },
  {
   "cell_type": "code",
   "execution_count": 6,
   "id": "1cea29c8-5788-437d-aaec-ec95e9027d2b",
   "metadata": {},
   "outputs": [
    {
     "name": "stdout",
     "output_type": "stream",
     "text": [
      "<startofstring> I love iphone! i just bought new iphone! <bot>: Thats good for you, i'm not very into new tech <endofstring>\n"
     ]
    }
   ],
   "source": [
    "tokenizer = GPT2Tokenizer.from_pretrained(\"distilgpt2\")\n",
    "\n",
    "\n",
    "tokenizer.add_special_tokens({\"pad_token\": \"<pad>\", \n",
    "                                \"bos_token\": \"<startofstring>\",\n",
    "                                \"eos_token\": \"<endofstring>\"})\n",
    "tokenizer.add_tokens([\"<bot>:\"])\n",
    "\n",
    "\n",
    "model = GPT2LMHeadModel.from_pretrained(\"distilgpt2\")\n",
    "model.resize_token_embeddings(len(tokenizer))\n",
    "\n",
    "model = model.to(device)\n",
    "\n",
    "chatData = ChatData(\"chat_data.json\", tokenizer)\n",
    "chatData =  DataLoader(chatData, batch_size=64)\n",
    "\n",
    "\n",
    "model.train()\n",
    "\n",
    "optim = Adam(model.parameters())\n"
   ]
  },
  {
   "cell_type": "code",
   "execution_count": null,
   "id": "f973093b-916b-45cd-a943-215b71eae57b",
   "metadata": {},
   "outputs": [],
   "source": [
    "train(chatData, model, optim)"
   ]
  },
  {
   "cell_type": "code",
   "execution_count": null,
   "id": "2b2be2ed-de15-4d4e-b374-87858251f64f",
   "metadata": {},
   "outputs": [],
   "source": [
    "while True:\n",
    "  inp = input()\n",
    "  print(infer(inp))"
   ]
  },
  {
   "cell_type": "code",
   "execution_count": null,
   "id": "801a0837-78b3-4570-be38-1b27fa446675",
   "metadata": {},
   "outputs": [],
   "source": []
  },
  {
   "cell_type": "code",
   "execution_count": null,
   "id": "3e2d97bf-df71-4d8f-9015-bc1d3bd233b4",
   "metadata": {},
   "outputs": [],
   "source": []
  }
 ],
 "metadata": {
  "kernelspec": {
   "display_name": "Python 3 (ipykernel)",
   "language": "python",
   "name": "python3"
  },
  "language_info": {
   "codemirror_mode": {
    "name": "ipython",
    "version": 3
   },
   "file_extension": ".py",
   "mimetype": "text/x-python",
   "name": "python",
   "nbconvert_exporter": "python",
   "pygments_lexer": "ipython3",
   "version": "3.9.16"
  }
 },
 "nbformat": 4,
 "nbformat_minor": 5
}
